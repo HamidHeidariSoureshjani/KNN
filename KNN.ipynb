{
  "nbformat": 4,
  "nbformat_minor": 0,
  "metadata": {
    "colab": {
      "provenance": []
    },
    "kernelspec": {
      "name": "python3",
      "display_name": "Python 3"
    },
    "language_info": {
      "name": "python"
    }
  },
  "cells": [
    {
      "cell_type": "code",
      "execution_count": 1,
      "metadata": {
        "id": "MpjjeGwu0mP1"
      },
      "outputs": [],
      "source": [
        "import heapq\n",
        "import pandas  as pd\n",
        "import numpy as np\n",
        "from sklearn import datasets\n",
        "from scipy.spatial import distance"
      ]
    },
    {
      "cell_type": "code",
      "source": [
        "class KNN:\n",
        "\n",
        "    def __init__ (self, X, k = 5):\n",
        "        self.X = X[X.columns[:-1]].values\n",
        "        self.y = X[X.columns[ -1]].values\n",
        "        self.k = k\n",
        "\n",
        "\n",
        "    def __distance(self, object_1, object_2):\n",
        "        return distance.euclidean(object_1, object_2)\n",
        "\n",
        "    def predict(self , data):\n",
        "        self.data = data\n",
        "        distance = []\n",
        "        counter_row = 0\n",
        "\n",
        "        for i in self.X:\n",
        "            dst = self.__distance(self.data, i )\n",
        "            heapq.heappush(distance,(dst, self.y[counter_row]))\n",
        "            counter_row += 1\n",
        "\n",
        "\n",
        "        listx = [0,0,0]\n",
        "        check_list = distance[0 : self.k]\n",
        "        self.max_element = -1\n",
        "        self.max_number  = -1\n",
        "        for i in check_list:\n",
        "            if(i[1] == 0):\n",
        "                listx[0]+=1\n",
        "                if(listx[0] > self.max_number):\n",
        "                    self.max_number  = listx[0]\n",
        "                    self.max_element = 0\n",
        "            elif(i[1] == 1):\n",
        "                listx[1]+=1\n",
        "                if(listx[1] > self.max_number):\n",
        "                    self.max_number = listx[0]\n",
        "                    self.max_element = 1\n",
        "            elif(i[1] == 2):\n",
        "                listx[2]+=1\n",
        "                if(listx[2] > self.max_number):\n",
        "                    self.max_number = listx[0]\n",
        "                    self.max_element = 2\n",
        "        return self.max_element"
      ],
      "metadata": {
        "id": "i3I-iMuu1Miv"
      },
      "execution_count": 2,
      "outputs": []
    },
    {
      "cell_type": "code",
      "source": [
        "def main():\n",
        "    iris =  datasets.load_iris()\n",
        "    data = pd.DataFrame(iris.data)\n",
        "    data[\"target\"]= iris.target\n",
        "    data = data.sample(frac=1).reset_index(drop=True)\n",
        "\n",
        "\n",
        "    sample       = data[0 : int(len(data)*(3/5))]\n",
        "    sample_test  = data[int(len(data)*(3/5))+1 : ]\n",
        "\n",
        "\n",
        "    sample_test_x = sample_test[sample_test.columns[:-1]].values\n",
        "    sample_test_y = sample_test[sample_test.columns[ -1]].values\n",
        "\n",
        "\n",
        "    for k in range(5,15):\n",
        "        model = KNN(sample, k )\n",
        "        resultant = []\n",
        "        counter = 0\n",
        "        for i in sample_test_x:\n",
        "            resultat = resultant.append(model.predict(i))\n",
        "            counter +=1\n",
        "\n",
        "\n",
        "        controle = 0\n",
        "        for i in range(len(resultant)):\n",
        "            if (resultant[i] == sample_test_y[i]):\n",
        "                controle += 1\n",
        "\n",
        "        print(f\"number of k is: {k} | accuracy is {(controle/len(resultant))*100}\")\n",
        "if __name__ == \"__main__\":\n",
        "    main()"
      ],
      "metadata": {
        "colab": {
          "base_uri": "https://localhost:8080/"
        },
        "id": "LBVVJoS-0rO8",
        "outputId": "3ad482ec-628e-4411-bd8d-6dd8b5043c55"
      },
      "execution_count": 3,
      "outputs": [
        {
          "output_type": "stream",
          "name": "stdout",
          "text": [
            "number of k is: 5 | accuracy is 91.52542372881356\n",
            "number of k is: 6 | accuracy is 89.83050847457628\n",
            "number of k is: 7 | accuracy is 94.91525423728814\n",
            "number of k is: 8 | accuracy is 83.05084745762711\n",
            "number of k is: 9 | accuracy is 94.91525423728814\n",
            "number of k is: 10 | accuracy is 89.83050847457628\n",
            "number of k is: 11 | accuracy is 94.91525423728814\n",
            "number of k is: 12 | accuracy is 76.27118644067797\n",
            "number of k is: 13 | accuracy is 77.96610169491525\n",
            "number of k is: 14 | accuracy is 89.83050847457628\n"
          ]
        }
      ]
    }
  ]
}